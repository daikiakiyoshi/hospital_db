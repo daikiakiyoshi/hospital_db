{
 "cells": [
  {
   "cell_type": "code",
   "execution_count": 1,
   "metadata": {},
   "outputs": [],
   "source": [
    "import psycopg2\n",
    "from config import config"
   ]
  },
  {
   "cell_type": "code",
   "execution_count": 11,
   "metadata": {},
   "outputs": [],
   "source": [
    "def insert_patient():\n",
    "    \"\"\" insert a new patient into the patients table \"\"\"\n",
    "    sql = \"\"\"INSERT INTO patients(fname, lname)\n",
    "             VALUES(%s, %s);\"\"\"\n",
    "    conn = None\n",
    "    patient_id = None\n",
    "    try:\n",
    "        # read database configuration\n",
    "        params = config()\n",
    "        # connect to the PostgreSQL database\n",
    "        conn = psycopg2.connect(**params)\n",
    "        # create a new cursor\n",
    "        cur = conn.cursor()\n",
    "        # execute the INSERT statement\n",
    "        #cur.execute(sql, (fname, lname))\n",
    "        cur.execute(\"INSERT INTO Patients(fname, lname) VALUES('Daiki','Akiyoshi')\")\n",
    "        # get the generated id back\n",
    "        patient_id = cur.fetchone()[0]\n",
    "        # commit the changes to the database\n",
    "        conn.commit()\n",
    "        # close communication with the database\n",
    "        cur.close()\n",
    "    except (Exception, psycopg2.DatabaseError) as error:\n",
    "        print(error)\n",
    "    finally:\n",
    "        if conn is not None:\n",
    "            conn.close()"
   ]
  },
  {
   "cell_type": "code",
   "execution_count": 12,
   "metadata": {},
   "outputs": [
    {
     "name": "stdout",
     "output_type": "stream",
     "text": [
      "unterminated quoted string at or near \"'Akiyoshi)\"\n",
      "LINE 1: INSERT INTO Patients(fname, lname) VALUES('Daiki','Akiyoshi)\n",
      "                                                          ^\n",
      "\n"
     ]
    }
   ],
   "source": [
    "insert_patient()"
   ]
  },
  {
   "cell_type": "code",
   "execution_count": null,
   "metadata": {},
   "outputs": [],
   "source": [
    "cur.execute(\"INSERT INTO Patients(fname, lname) VALUES('Daiki','Akiyoshi')\")"
   ]
  }
 ],
 "metadata": {
  "kernelspec": {
   "display_name": "Python 3",
   "language": "python",
   "name": "python3"
  },
  "language_info": {
   "codemirror_mode": {
    "name": "ipython",
    "version": 3
   },
   "file_extension": ".py",
   "mimetype": "text/x-python",
   "name": "python",
   "nbconvert_exporter": "python",
   "pygments_lexer": "ipython3",
   "version": "3.7.3"
  }
 },
 "nbformat": 4,
 "nbformat_minor": 2
}
